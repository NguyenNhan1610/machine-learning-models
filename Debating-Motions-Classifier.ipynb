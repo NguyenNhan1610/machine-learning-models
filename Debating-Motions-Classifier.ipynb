{
 "cells": [
  {
   "cell_type": "code",
   "execution_count": 30,
   "metadata": {
    "collapsed": true
   },
   "outputs": [],
   "source": [
    "#!/Users/jessica/anaconda/lib/python3.5\n",
    "\n",
    "import sklearn\n",
    "import pandas as pd\n",
    "import numpy as np"
   ]
  },
  {
   "cell_type": "code",
   "execution_count": 31,
   "metadata": {
    "collapsed": false
   },
   "outputs": [
    {
     "data": {
      "text/plain": [
       "(1080, 22)"
      ]
     },
     "execution_count": 31,
     "metadata": {},
     "output_type": "execute_result"
    }
   ],
   "source": [
    "debating_data = pd.read_csv(\"/Users/jessica/GitHub/data-science/data/debatingmotions_sorted.csv\")\n",
    "header = debating_data.columns.values\n",
    "debating_data = np.array(debating_data)\n",
    "debating_data.shape"
   ]
  },
  {
   "cell_type": "code",
   "execution_count": 32,
   "metadata": {
    "collapsed": false
   },
   "outputs": [
    {
     "data": {
      "text/plain": [
       "array(['THBT social disgust is sufficient justification for censoring art.',\n",
       "       'THR the Rise of the Rom-Com Genre.',\n",
       "       'THBT after 50 years of ownership the state should have the right to repossess all works of painting or sculpture for the purpose of public display',\n",
       "       'THW introduce a tax on \"low brow\" entertainment in order to subsidise \"high brow\" art.',\n",
       "       'TH regrets the rise of art that celebrates gaining material wealth',\n",
       "       'THW prohibit private ownership of art deemed to be culturally or historically significant',\n",
       "       'Assuming there are actors who fit the criteria: THIS HOUSE BELIEVES That film directors have a moral obligation to cast actors who share key lived experiences with the characters they play.',\n",
       "       'THS Chris Rock’s continued commitment to host the Oscars',\n",
       "       'TH would prohibit businesses from taking a public position on social issues',\n",
       "       'THW disallow exclusive private arbitration for contracts between corporations and individuals.',\n",
       "       'THW provide financial incentives (e.g. tax breaks) to companies that require skilled labour who hire non-graduates.',\n",
       "       'THW require that companies with >15 employees give 50% of their voting rights to employees',\n",
       "       'This house would end penalty enhancements for hate crimes.',\n",
       "       'THBT criminal justice policy should be outsourced to technocrats instead of elected representatives.',\n",
       "       'THBT law enforcement organisations should never provide incentives to gang members to inform on their superiors (e.g. plea bargains or monetary rewards)',\n",
       "       'TH believes that it is legitimate for individuals to punish people they deem to have committed online harassment by revealing their identity online.',\n",
       "       'TH would require all defendants in criminal cases to be represented only by state-employed lawyers.',\n",
       "       'THBT judges should deliberately misinterpret constitutions to protect important liberties',\n",
       "       \"THBT criminal punishments should be based only on the offenders' culpability rather than the damages caused by the criminal act or other outcomes derived from the punishment\",\n",
       "       'THR the criminalization of the reckless transmission of sexual infections (e.g. HIV, herpes and gonorrhoea) in England and Wales',\n",
       "       'THBT developing nations should enshrine legally actionable socioeconomic rights',\n",
       "       'This house would require of police departments that the ethnic composition of their arrests match the ethnic composition of the population in their jurisdiction.',\n",
       "       'This house believes that supreme/constitutional courts should not have the power to strike down legislation.',\n",
       "       'THBT when courts sentence offenders, they should give considerable weight to the views of the victims. ',\n",
       "       'Setting aside infectious diseases, THW work to prevent interaction with tribes who have not had contact with the modern world.',\n",
       "       'THW prefer a world in which extremely wealthy people in Western liberal states donate excess money to their governments rather than to charities',\n",
       "       'THBT developed countries should set maximum rents for residential properties in large urban centres. ',\n",
       "       'THBT developing countries should collectivelly agree to radically redistributive tax policies. ',\n",
       "       'TH Opposes the Sharing Economy', 'THR the rise of mega-cities',\n",
       "       \"THW cap every company's highest salary at 10x the lowest salary within that company.\",\n",
       "       'TH regrets the decline in oil prices over the last 18 months',\n",
       "       'THBT the state should reclaim a fixed proportion of all charitable giving and redistribute it to other charities on the basis of their effectiveness',\n",
       "       'THW allow asylum seekers to work',\n",
       "       'THW introduce a 100% inheritance tax',\n",
       "       'THW measure gross national happiness and base policy decisions on those measurements.',\n",
       "       'THBT developing countries should adopt economic development policies that heavily disincentivise urbanisation',\n",
       "       'THW ban its citizens from visiting illiberal states whose economies depend on tourism',\n",
       "       'THW strictly limit the replacement of workers with technology by companies',\n",
       "       'THBT all states should create special economic zones in cities, where all economic activities (except the purchase of goods and services) are carried out by women',\n",
       "       'THBT all states should collectively aggregate and evenly distribute all revenue from mineral wealth globally on a per capita basis',\n",
       "       'TH supports stronger collective bargaining rights and protections rather than legislated labor market regulations (e.g., wage levels and working conditions)',\n",
       "       'TH would retrospectively criminalise excessively risky management practises for economically significant corporations and prosecute the executives responsible for them.',\n",
       "       'TH would nationalize all systemically important financial institutions, such as banks and insurance companies.',\n",
       "       'THIS HOUSE WOULD Make corporation tax proportional to company wage ratios',\n",
       "       'THBT unconditional cash transfer charities are preferable to project based charities',\n",
       "       'THW break up the eurozone',\n",
       "       'This house believes that EU member states should nationalise all their oil and gas resources in order to surrender total ownership and control of them to an EU-run energy agency.',\n",
       "       'This house believes that micro-finance organisations (including, but not limited to: NGOs, charities and development banks) should offer micro-finance loans in developing nations exclusively to women.',\n",
       "       'This house would make membership in a labour union compulsory for every worker.',\n",
       "       'THW break up banks like Goldman Sachs, JP Morgan Chase and HSBC, that are deemed \"too big to fail\". ',\n",
       "       'This house believes that educational institutions should never attempt to restrict the freedom of expression of students or staff (except when mandated by law)',\n",
       "       'THBT the government should only fund further education courses that have high graduate employment rates',\n",
       "       'THBT in areas of socio-economic deprivation, schools should train students in vocational skills to the exclusion of the liberal arts',\n",
       "       'TH Supports the proliferation of free schools',\n",
       "       'THW provide mobile teachers for the compulsory education of children in travelling communities (e.g. Roma and Irish travellers)',\n",
       "       'THW allow the trophy hunting of endangered animals',\n",
       "       'This House believes that when multi-national corporations conduct any business in Western states, these nations should enforce their environmental standards at all stages of production.',\n",
       "       'THBT environmental movements should support climate engineering that fundamentally alters the environment in an attempt to combat global warming',\n",
       "       'This house would require companies to place images of animal suffering on all products or food whose production harmed or killed animals.',\n",
       "       'THW give primates and cetaceans the same rights to life, freedom from physical harm and freedom of movement as humans. ',\n",
       "       'THW prevent those who deny climate change from seeking political office. ',\n",
       "       'THW require major polluters to open their borders to environmental refugees. ',\n",
       "       'THW create and enforce filial responsibility laws (mandating that people take care of their parents)\" - or words to that effect',\n",
       "       'THR the institutions of marriage and civil partnership',\n",
       "       'THR the decline of tightly integrated families',\n",
       "       'This house would allow opponents of abortion to sign legally-binding contracts with pregnant women, in which they pay those pregnant women not to have an abortion.',\n",
       "       'In countries with few female politicians, THBT it is good to have a politically active First Lady.',\n",
       "       'THW give women two votes in political elections',\n",
       "       'THBT the creation of feminist icons and their cults of personality are good for the feminist movement',\n",
       "       'Assuming the technology to do so easily and safely exists, THW force everyone in society to undergo periodic sex changes.',\n",
       "       'TH regrets campaigns by feminists to shut down female empowerment events exclusively for cis women, like Michfest.',\n",
       "       \"This House believes that feminist movement should oppose military interventions which claim to further women's rights\",\n",
       "       'THW Allow individuals to sign contracts which cede future rights of theirs to other individuals (for example, to sell themselves into slavery)',\n",
       "       'THW ban eminent domain rights',\n",
       "       \"Your 'one true soulmate' exists. There is a test that allows you to determine whether someone is your one true soulmate. You are in love with the person you have been dating for a while.\\nTHW take the test to determine whether the person you are in love with is your 'soulmate'\",\n",
       "       'THBT African Union states should withdraw from the International Criminal Court and set up an African alternative',\n",
       "       'THBT the USA should publicly apologise for the bombing of Hiroshima and Nagasaki',\n",
       "       'THBT states should take high numbers of refugees, even when faced with strong democratic opposition.',\n",
       "       'THBT Britain should pay reparations to its former colonies.',\n",
       "       'This house regrets the eastward expansion of the European Union during and since 2004',\n",
       "       'This house believes that Israel should have continued the occupation of Gaza',\n",
       "       'THR the partition of India',\n",
       "       'THBT the international community should pay countries near to conflict zones to process, settle and restrict the further movement of refugees',\n",
       "       'This House believes that Western Liberal Democracies should boycott the 2018 FIFA World Cup in Russia.',\n",
       "       'TH as Western Countries ( EU, US, Canada, Australia) would stop selling arms to Saudi Arabia.',\n",
       "       'THW allow countries to pay other countries to settle refugees who reach their borders',\n",
       "       'THBT countries, like Switzerland, that were neutral in WW II should pay financial reparations to states occupied by the Nazis',\n",
       "       'THBT the West should abandon its foreign policy aim of removing Assad from power',\n",
       "       'This House believes that the European Union should lift its arms embargo on China.',\n",
       "       'THS establishing an independent state of Kurdistan.',\n",
       "       'THBT the international community should cut off internet access in Syria',\n",
       "       'THBT the US and EU should seek to promote peace by heavily subsidising Israeli businesses who invest in the Palestinian territories',\n",
       "       'THBT liberal democracies that overthrow the governments of other states should impose power-sharing, even when this severely overrides or delays democratic representation',\n",
       "       'TH regrets the decline of secular pan-Arab nationalism',\n",
       "       'THBT humanitarian organisations should, and should be allowed to, give funding, resources or services to illegal armed groups when this is made a condition for access to vulnerable civilians',\n",
       "       'THBT the US should withdraw from East Asia and cede regional hegemony to China.',\n",
       "       'THB the West should prioritize stability over exporting democracy in foreign policy',\n",
       "       'THW Introduce a system of tradable quotas for asylum seekers in the European Union',\n",
       "       'THW Introduce a system of tradable quotas for asylum seekers in the European Union',\n",
       "       'THR the Arab Spring',\n",
       "       'Given the technological capability to disable their nuclear weapons, THW invade North Korea.',\n",
       "       'This house believes that states of the former Yugoslavia should not commemorate the events of the Yugoslav Wars.',\n",
       "       'This house believes that states should hold binding national referendums on major peace agreements.',\n",
       "       'This house believes that the United States of America should invade, and forcibly partition Iraq.',\n",
       "       'THBT despite the expressed wishes of the Pakistani government, the United States should continue to target the leaders of Tehrik-i-Talibani (Pakistani Taliban). ',\n",
       "       'Instead of creating a Jewish state in the British Mandate of Palestine, with the benefit of hindsight THW have created a Jewish state in Germany. ',\n",
       "       \"THBT it is in the West's interests for Assad to decisively win the Syrian civil war. \",\n",
       "       'THBT national war memorials should commemorate the casualties on all sides of the conflict. ',\n",
       "       'THBT liberal democracies should cut all  economic and military ties with the Kingdom of Saudi Arabia. ',\n",
       "       'THBT LGBTQ+ campaigns should criticise the nuclear family',\n",
       "       'THBT the trans movement should actively seek to separate themselves, their issues and their collective identity from the LGBTQ movement in their campaigns and in the public consciousness',\n",
       "       'THS the July 2015 decision of the UK government to deny a visa to Tyler the Creator',\n",
       "       'THW allow mental health charities to sue media outlets for the defamation of the mentally ill',\n",
       "       'THR the overwhelming narrative of good triumphing over evil in children’s entertainment',\n",
       "       'This House would only allow the media and campagning organisations to depict or publish information about the deceased in a tragedy with the explicit permission of the family.',\n",
       "       'THW prohibit the media from reporting on the mental illness of those accused of crimes',\n",
       "       'THBT campaigners for refugee protection should not use pictures displaying the graphic suffering of refugees as part of their advocacy.',\n",
       "       'TH regrets mainstream, commercial films that depict historical subjugation and/or crimes against humanity.',\n",
       "       'THBT characters with disabilities in film and television should always be played by individuals with disabilities.',\n",
       "       'THW prefer a world without pornography',\n",
       "       'This house would ban international aid charities from using senational, graphic, or overly-emotional images of suffering in fundraising and advertising campaigns.',\n",
       "       'THW, as a liberal democracy, restrict coverage of small-scale terrorist attacks. ',\n",
       "       'This house believes that medical staff should be able to opt out of providing treatments on religious or ethical grounds',\n",
       "       'This House would ban any treatment, service or ritual from claiming a physical healing effect until it is tested and proven more effective than a placebo by a national regulator.',\n",
       "       'THW ban the research and production of moral enhancement drugs',\n",
       "       \"TH, as a medical professional employed by the US military or security sevices, would, and would encourage others, to refuse orders to provide medical treatment to individuals undergoing 'enhanced interrogation techniques'\",\n",
       "       \"THBT the African-American community should actively oppose 'broken windows policies'\",\n",
       "       'TH supports the establishment of a Black secessionary state within the territory of the United States, the founding of which is supported by the American government.',\n",
       "       'THW programme self-driving cars to prioritise the number of lives saved when faced with unavoidable collisions as opposed to prioritising the safety of the driver.',\n",
       "       'THBT when faced with the choice between spending discretionary income on non-essentials or giving to charity, individuals should always choose to give to charity',\n",
       "       'TH believes that the West should stop all attempts to gather information or intelligence by deception and/or coercion of foreign citizens',\n",
       "       'TH would legalise surrogacy for profit in Western Liberal Democracies',\n",
       "       'TH believes that parents of a musical child genius have a moral obligation to push that child to maximise their musical potential.',\n",
       "       'THW kill baby Hitler',\n",
       "       \"THBT the world's poor would be justified in pursuing complete Marxist revolution.\",\n",
       "       'THW ban savior siblings',\n",
       "       'You have invented a pill that would compel the user to tell the truth. THW destroy it.',\n",
       "       'THBT the Parliamentary Labour Party should immediately depose Jeremy Corbyn by a vote of no confidence',\n",
       "       'This house believes US immigration policy should only prioritise merit-based standards of acceptance over the reunification of families.',\n",
       "       'A new planet has been discovered identical to Earth. 1 of 2 systems can be implemented on this planet (or words to that effect). THW implement communism over capitalism.',\n",
       "       'THBT Donald Trump’s presidential campaign is good for America',\n",
       "       'THW require approval from local referenda for all major land development decisions (e.g stadiums, airport extensions, railways etc.)',\n",
       "       'THBT political parties’ Cabinets and Shadow Cabinets should be elected by the members of that party',\n",
       "       'This House would pay all elected politicians the median wage in their country.',\n",
       "       'TH would allow EU citizens to donate to political parties in any EU state',\n",
       "       'THBT prominent civil society activists should choose not to run for public office.',\n",
       "       'THBT progressive politicians in conservative societies should pander to bigots, racists, hardline conservatives and others with regressive views in attempting to win elections',\n",
       "       'THBT states should adopt sunset clauses that legally force them to review and either re-authorize or revise their constitutions every generation',\n",
       "       \"TH supports the decline of the nations-state's power in an increasingly globalized world.\",\n",
       "       'THIS HOUSE WOULD require all government ministers to have majority approval from the professional bodies their department has legislative responsibility for. (For example, the UK Minister for Health would need majority approval from the British Medical Association)',\n",
       "       'THBT The USA should adopt a parliamentary democracy rather than a presidential one.',\n",
       "       'This house supports two-party political systems over multi-party political systems.',\n",
       "       'This house would introduce blind voting.',\n",
       "       'THBT the Republican and Democratic parties should select congressional, senate and presidential candidates through a vote by the party leadership rather than through primaries. ',\n",
       "       'THBT political parties should adopt non-hierarchical organisational structures. ',\n",
       "       'THW ban the Orange Walk',\n",
       "       'This house would prefer a world without religious beliefs',\n",
       "       'THBT Saudi Arabia should limit participation in the Hajj to the citizens of countries that are committed to taking direct action against IS',\n",
       "       'This House Would Ban Religious Primary and Secondary Schools',\n",
       "       'THW prohibit religious institutions from considering applicants’ religious affiliation for any position whose primary function is not the performance of religious rites (e.g., administrators, teachers, fundraisers, etc.).',\n",
       "       'THW ban religious or faith-based rehabilitation programmes in prison',\n",
       "       'This house believes that leaders of minority religions in Europe should strongly encourage their congregations to refrain from public displays of their faith.',\n",
       "       'THW ban religious charities from engaging in proselytisation. ',\n",
       "       'THW legally permit soldiers to refuse to participate in military actions or missions on the basis of conscience.',\n",
       "       'This House Regrets the perception that soldiers are heroes',\n",
       "       \"THW accept 'I was only following orders' as a defence in war crimes trials\",\n",
       "       'THBT militaries should aggressively engage in the genetic and bionic enhancement of consenting soldiers.',\n",
       "       \"THBT the US and it's allies should announce Intentions to capture and try, as opposed to assassinate the leaders of Da'esh (IS)\",\n",
       "       'This House believes that Western states should not use private military contractors in combat.',\n",
       "       'TH would treat the deaths of soldiers as regrettable losses of lives rather than examples of heroism.',\n",
       "       'THW allow corporations to use hackers to retaliate against cyberattacks where the state seems unwilling or unable to do so',\n",
       "       'THW allow states to use mercenary forces in combat roles in active military operations',\n",
       "       'THIS HOUSE BELIEVES That western liberal democracies should cease all direct military action in Iraq, Syria, Libya and Yemen.',\n",
       "       'THW, assuming it was technically feasible, remove the ability of soldiers to feel fear',\n",
       "       'THBT it should be the policy of the US to conduct all of its military interventions unilaterally. ',\n",
       "       'THBT the US should dissolve its military capabilities. ',\n",
       "       'THBT disadvantaged groups should emphasise their conformity with, rather than distinctiveness from, dominant culture, as a strategy for improving their social position',\n",
       "       'THBT non-western countries who were once colonized, when fabricating the material culture of national identity (anthems, street names, holidays, flag, etc.) should privilege pre colonial history and notions of indigeneity over themes of anti colonial resistance.',\n",
       "       'THBT identity-based social movements should not include in their movements allies who are not part of the identity group in question. ',\n",
       "       'THBT governments should place no restrictions on how welfare payments, excluding child benefit, are spent.',\n",
       "       'TH would introduce a mandatory term of at least 1 year of non-military national service for 18year olds',\n",
       "       'THBT governments with racially diverse populations should never record the ethnic or racial background of their residents',\n",
       "       'This house would pay additional benefits to families on welfare according to their child’s performance in school.',\n",
       "       'THW ban the gender testing of athletes in sports. ',\n",
       "       'THW prefer a world in which there are no extreme emotions such as boiling rage, falling madly in love, extreme grief etc',\n",
       "       'THW Prefer to live in A Brave New World',\n",
       "       'This house believes that young, educated people in Western countries should focus their charitable efforts (e.g., volunteering, donations, etc.) towards benefiting the disadvantaged in their own country, as opposed to in the developing world.'], dtype=object)"
      ]
     },
     "execution_count": 32,
     "metadata": {},
     "output_type": "execute_result"
    }
   ],
   "source": [
    "debating_data[:total_labelled,16]"
   ]
  },
  {
   "cell_type": "code",
   "execution_count": 33,
   "metadata": {
    "collapsed": true
   },
   "outputs": [],
   "source": [
    "# Sheet variables\n",
    "total_labelled = 188\n",
    "train_size = 120\n",
    "test_size = total_labelled - train_size\n",
    "motion_col = 16\n",
    "infoslide_col = 17\n",
    "category_col_start = 18\n",
    "category_col_end_plus_one = 21"
   ]
  },
  {
   "cell_type": "code",
   "execution_count": 34,
   "metadata": {
    "collapsed": false
   },
   "outputs": [
    {
     "name": "stdout",
     "output_type": "stream",
     "text": [
      "Is this unlabelled? \n",
      " ['2016-01-23' 'IoNA' 'United Kingdom' 0 'York IV' 'Bethany Garry'\n",
      " 'Jennie Hope' 'Nissim Massarano' nan nan nan nan nan nan '2' '2'\n",
      " 'This house believes that the Labour Party should have worked to rehabilitate Tony Blair’s image in its campaigning, prior to the 2015 General Election.'\n",
      " nan nan nan nan nan] \n",
      "\n",
      "[['2016-01-22' 'North America and Canada' 'Canada' 0 'NorthAms'\n",
      "  'Veenu Goswami' 'Alex Mechanick' 'Matt Summers' 'Aislin Flynn' nan nan\n",
      "  nan nan nan '4' '4' 'THW ban eminent domain rights' nan 'Freedoms' nan\n",
      "  nan nan]\n",
      " ['2014-08-19' 'Europe' 'Zagreb, Croatia' 2 'Zagreb EUDC'\n",
      "  'Rebecca Meredith' 'Milan Vignjevic' 'Alon van Dam' 'Ashish Kumar'\n",
      "  'Engin Arikan' 'Maja Cimerman' 'Sella Nevo' 'Tomas Beerthuis' nan '2' '2'\n",
      "  'This house supports two-party political systems over multi-party political systems.'\n",
      "  nan 'Politics' nan nan nan]\n",
      " ['2015-08-03' 'Europe' 'Austria' 2 'EUDC' 'Christine Simpson'\n",
      "  'Michael Shapira' 'Amanda Moorghen' 'Emilia Carlqvist' 'Gavin Illsley'\n",
      "  nan nan nan nan 'ESL_Y' 'ESL_Semis'\n",
      "  'TH would introduce a mandatory term of at least 1 year of non-military national service for 18year olds'\n",
      "  nan 'Social Policy' 'Security, War and Military' nan nan]]\n"
     ]
    }
   ],
   "source": [
    "# Shuffle labelled data \n",
    "labelled_data = debating_data[:total_labelled,:]\n",
    "unlabelled_data = debating_data[total_labelled:,:]\n",
    "\n",
    "# Check unlabelled data really is unlabelled\n",
    "print('Is this unlabelled?', '\\n', unlabelled_data[0], '\\n')\n",
    "\n",
    "# Shuffle data\n",
    "np.random.shuffle(labelled_data)\n",
    "np.random.shuffle(unlabelled_data)\n",
    "print(labelled_data[:3])"
   ]
  },
  {
   "cell_type": "markdown",
   "metadata": {
    "collapsed": true
   },
   "source": [
    "### Convert labels to binary vectors"
   ]
  },
  {
   "cell_type": "code",
   "execution_count": 35,
   "metadata": {
    "collapsed": false
   },
   "outputs": [],
   "source": [
    "Z = labelled_data[:,category_col_start:category_col_end_plus_one]"
   ]
  },
  {
   "cell_type": "code",
   "execution_count": 36,
   "metadata": {
    "collapsed": false
   },
   "outputs": [
    {
     "name": "stdout",
     "output_type": "stream",
     "text": [
      "26\n"
     ]
    }
   ],
   "source": [
    "labels = [\n",
    "'Art and Culture',\n",
    "'Business',\n",
    "'Criminal Justice System',\n",
    "'Development',\n",
    "'Economics','Education',\n",
    "'Environment',\n",
    "'Family',\n",
    "'Feminism',\n",
    "'Freedoms',\n",
    "'Funny',\n",
    "'International Relations',\n",
    "'LGBT+',\n",
    "'Media',\n",
    "'Medical Ethics',\n",
    "'Minority Communities',\n",
    "'Morality',\n",
    "'Politics',\n",
    "'Religion',\n",
    "'Science and Technology',\n",
    "'Security, War and Military',\n",
    "'Social Policy',\n",
    "'Social Movements',\n",
    "'Sports',\n",
    "'Terrorism',\n",
    "'The Human Experience'\n",
    "]\n",
    "\n",
    "len_labels = len(labels)\n",
    "print(len_labels)"
   ]
  },
  {
   "cell_type": "code",
   "execution_count": 37,
   "metadata": {
    "collapsed": false
   },
   "outputs": [],
   "source": [
    "Y_vector = np.zeros(shape=(total_labelled,len_labels))\n",
    "for i in range(total_labelled):\n",
    "    for j in range(category_col_end_plus_one - category_col_start):\n",
    "        for k in range(len_labels):\n",
    "            if Z[i,j] == labels[k]:\n",
    "                Y_vector[i,k] = 1"
   ]
  },
  {
   "cell_type": "code",
   "execution_count": 38,
   "metadata": {
    "collapsed": false
   },
   "outputs": [],
   "source": [
    "# Transform Ys into binary\n",
    "Y_dict = dict.fromkeys(labels)\n",
    "for i in range(len_labels):\n",
    "    Y_dict[labels[i]] = Y_vector[:,i]"
   ]
  },
  {
   "cell_type": "code",
   "execution_count": 39,
   "metadata": {
    "collapsed": false
   },
   "outputs": [
    {
     "data": {
      "text/plain": [
       "array([ 0.,  0.,  0.,  0.,  0.,  0.,  0.,  1.,  0.,  0.,  0.,  0.,  0.,\n",
       "        0.,  0.,  0.,  0.,  0.,  0.,  0.,  0.,  0.,  0.,  0.,  0.,  0.,\n",
       "        0.,  0.,  0.,  0.,  0.,  0.,  0.,  0.,  0.,  0.,  0.,  0.,  0.,\n",
       "        0.,  0.,  0.,  0.,  0.,  0.,  0.,  0.,  0.,  0.,  0.,  0.,  0.,\n",
       "        0.,  0.,  1.,  0.,  0.,  0.,  0.,  0.,  0.,  0.,  0.,  0.,  0.,\n",
       "        0.,  0.,  0.,  1.,  0.,  0.,  0.,  0.,  0.,  1.,  0.,  0.,  0.,\n",
       "        0.,  0.,  0.,  0.,  0.,  0.,  0.,  0.,  0.,  0.,  0.,  0.,  0.,\n",
       "        0.,  0.,  0.,  0.,  0.,  0.,  0.,  0.,  0.,  0.,  1.,  0.,  0.,\n",
       "        0.,  0.,  0.,  0.,  0.,  0.,  0.,  0.,  0.,  0.,  0.,  0.,  1.,\n",
       "        1.,  0.,  0.,  0.,  0.,  0.,  0.,  0.,  0.,  0.,  0.,  0.,  0.,\n",
       "        0.,  1.,  0.,  0.,  0.,  1.,  0.,  0.,  0.,  0.,  0.,  0.,  0.,\n",
       "        0.,  0.,  0.,  0.,  0.,  0.,  0.,  0.,  0.,  0.,  1.,  0.,  0.,\n",
       "        0.,  0.,  0.,  0.,  0.,  0.,  0.,  0.,  0.,  0.,  0.,  0.,  0.,\n",
       "        0.,  0.,  0.,  0.,  0.,  0.,  0.,  1.,  0.,  0.,  0.,  0.,  0.,\n",
       "        0.,  0.,  0.,  0.,  0.,  0.])"
      ]
     },
     "execution_count": 39,
     "metadata": {},
     "output_type": "execute_result"
    }
   ],
   "source": [
    "Y_dict['Art and Culture']"
   ]
  },
  {
   "cell_type": "code",
   "execution_count": 40,
   "metadata": {
    "collapsed": true
   },
   "outputs": [],
   "source": [
    "# Choose category to train for\n",
    "chosen_element = 'International Relations'\n",
    "Y_for_element = Y_dict[chosen_element]"
   ]
  },
  {
   "cell_type": "code",
   "execution_count": 41,
   "metadata": {
    "collapsed": false
   },
   "outputs": [],
   "source": [
    "# Configure training set\n",
    "\n",
    "X = labelled_data[:train_size,motion_col]\n",
    "Y = Y_for_element[:train_size]"
   ]
  },
  {
   "cell_type": "code",
   "execution_count": 42,
   "metadata": {
    "collapsed": false
   },
   "outputs": [
    {
     "data": {
      "text/plain": [
       "array(['THW ban eminent domain rights',\n",
       "       'This house supports two-party political systems over multi-party political systems.',\n",
       "       'TH would introduce a mandatory term of at least 1 year of non-military national service for 18year olds',\n",
       "       'TH regrets the decline in oil prices over the last 18 months',\n",
       "       'THBT when faced with the choice between spending discretionary income on non-essentials or giving to charity, individuals should always choose to give to charity',\n",
       "       'THBT judges should deliberately misinterpret constitutions to protect important liberties',\n",
       "       'THW allow corporations to use hackers to retaliate against cyberattacks where the state seems unwilling or unable to do so',\n",
       "       'THBT after 50 years of ownership the state should have the right to repossess all works of painting or sculpture for the purpose of public display',\n",
       "       'THBT developing countries should collectivelly agree to radically redistributive tax policies. ',\n",
       "       'This house would ban international aid charities from using senational, graphic, or overly-emotional images of suffering in fundraising and advertising campaigns.',\n",
       "       'THBT characters with disabilities in film and television should always be played by individuals with disabilities.',\n",
       "       'This House Regrets the perception that soldiers are heroes',\n",
       "       'THR the partition of India',\n",
       "       'This house would allow opponents of abortion to sign legally-binding contracts with pregnant women, in which they pay those pregnant women not to have an abortion.',\n",
       "       'A new planet has been discovered identical to Earth. 1 of 2 systems can be implemented on this planet (or words to that effect). THW implement communism over capitalism.',\n",
       "       'THBT the Republican and Democratic parties should select congressional, senate and presidential candidates through a vote by the party leadership rather than through primaries. ',\n",
       "       'THBT liberal democracies that overthrow the governments of other states should impose power-sharing, even when this severely overrides or delays democratic representation',\n",
       "       'THIS HOUSE WOULD Make corporation tax proportional to company wage ratios',\n",
       "       'THW provide mobile teachers for the compulsory education of children in travelling communities (e.g. Roma and Irish travellers)',\n",
       "       'THBT unconditional cash transfer charities are preferable to project based charities',\n",
       "       'THW ban the gender testing of athletes in sports. ',\n",
       "       'THW, assuming it was technically feasible, remove the ability of soldiers to feel fear',\n",
       "       'THBT African Union states should withdraw from the International Criminal Court and set up an African alternative',\n",
       "       \"THBT the world's poor would be justified in pursuing complete Marxist revolution.\",\n",
       "       'THW disallow exclusive private arbitration for contracts between corporations and individuals.',\n",
       "       'THBT countries, like Switzerland, that were neutral in WW II should pay financial reparations to states occupied by the Nazis',\n",
       "       'This house would make membership in a labour union compulsory for every worker.',\n",
       "       'Assuming the technology to do so easily and safely exists, THW force everyone in society to undergo periodic sex changes.',\n",
       "       'THW Allow individuals to sign contracts which cede future rights of theirs to other individuals (for example, to sell themselves into slavery)',\n",
       "       'THBT it should be the policy of the US to conduct all of its military interventions unilaterally. ',\n",
       "       'THW allow countries to pay other countries to settle refugees who reach their borders',\n",
       "       'THW ban savior siblings',\n",
       "       'TH supports stronger collective bargaining rights and protections rather than legislated labor market regulations (e.g., wage levels and working conditions)',\n",
       "       \"THW accept 'I was only following orders' as a defence in war crimes trials\",\n",
       "       'THBT governments with racially diverse populations should never record the ethnic or racial background of their residents',\n",
       "       'THS establishing an independent state of Kurdistan.',\n",
       "       'Given the technological capability to disable their nuclear weapons, THW invade North Korea.',\n",
       "       'THW provide financial incentives (e.g. tax breaks) to companies that require skilled labour who hire non-graduates.',\n",
       "       'TH would require all defendants in criminal cases to be represented only by state-employed lawyers.',\n",
       "       'THW ban the research and production of moral enhancement drugs',\n",
       "       'THW break up the eurozone',\n",
       "       'This house believes that leaders of minority religions in Europe should strongly encourage their congregations to refrain from public displays of their faith.',\n",
       "       'This house believes that young, educated people in Western countries should focus their charitable efforts (e.g., volunteering, donations, etc.) towards benefiting the disadvantaged in their own country, as opposed to in the developing world.',\n",
       "       'This house regrets the eastward expansion of the European Union during and since 2004',\n",
       "       'THW Introduce a system of tradable quotas for asylum seekers in the European Union',\n",
       "       'TH would prohibit businesses from taking a public position on social issues',\n",
       "       'THR the decline of tightly integrated families',\n",
       "       'THW ban religious or faith-based rehabilitation programmes in prison',\n",
       "       'THR the institutions of marriage and civil partnership',\n",
       "       'THBT Saudi Arabia should limit participation in the Hajj to the citizens of countries that are committed to taking direct action against IS',\n",
       "       'THW Introduce a system of tradable quotas for asylum seekers in the European Union',\n",
       "       'THW break up banks like Goldman Sachs, JP Morgan Chase and HSBC, that are deemed \"too big to fail\". ',\n",
       "       'Instead of creating a Jewish state in the British Mandate of Palestine, with the benefit of hindsight THW have created a Jewish state in Germany. ',\n",
       "       'THW, as a liberal democracy, restrict coverage of small-scale terrorist attacks. ',\n",
       "       'THBT social disgust is sufficient justification for censoring art.',\n",
       "       \"This House believes that feminist movement should oppose military interventions which claim to further women's rights\",\n",
       "       'THW allow asylum seekers to work',\n",
       "       'THBT progressive politicians in conservative societies should pander to bigots, racists, hardline conservatives and others with regressive views in attempting to win elections',\n",
       "       \"TH, as a medical professional employed by the US military or security sevices, would, and would encourage others, to refuse orders to provide medical treatment to individuals undergoing 'enhanced interrogation techniques'\",\n",
       "       'THW ban religious charities from engaging in proselytisation. ',\n",
       "       'THBT political parties should adopt non-hierarchical organisational structures. ',\n",
       "       'This house would pay additional benefits to families on welfare according to their child’s performance in school.',\n",
       "       'TH would allow EU citizens to donate to political parties in any EU state',\n",
       "       'THBT the international community should pay countries near to conflict zones to process, settle and restrict the further movement of refugees',\n",
       "       'THW prefer a world without pornography',\n",
       "       'THBT developing nations should enshrine legally actionable socioeconomic rights',\n",
       "       'THW require approval from local referenda for all major land development decisions (e.g stadiums, airport extensions, railways etc.)',\n",
       "       'Setting aside infectious diseases, THW work to prevent interaction with tribes who have not had contact with the modern world.',\n",
       "       'THW prohibit private ownership of art deemed to be culturally or historically significant',\n",
       "       'TH regrets the decline of secular pan-Arab nationalism',\n",
       "       'THBT prominent civil society activists should choose not to run for public office.',\n",
       "       'THBT states should take high numbers of refugees, even when faced with strong democratic opposition.',\n",
       "       'THW give women two votes in political elections',\n",
       "       \"THBT criminal punishments should be based only on the offenders' culpability rather than the damages caused by the criminal act or other outcomes derived from the punishment\",\n",
       "       'Assuming there are actors who fit the criteria: THIS HOUSE BELIEVES That film directors have a moral obligation to cast actors who share key lived experiences with the characters they play.',\n",
       "       'TH would nationalize all systemically important financial institutions, such as banks and insurance companies.',\n",
       "       'TH would treat the deaths of soldiers as regrettable losses of lives rather than examples of heroism.',\n",
       "       'TH would legalise surrogacy for profit in Western Liberal Democracies',\n",
       "       'This house believes that micro-finance organisations (including, but not limited to: NGOs, charities and development banks) should offer micro-finance loans in developing nations exclusively to women.',\n",
       "       'THW prefer a world in which extremely wealthy people in Western liberal states donate excess money to their governments rather than to charities',\n",
       "       'THW legally permit soldiers to refuse to participate in military actions or missions on the basis of conscience.',\n",
       "       'THBT disadvantaged groups should emphasise their conformity with, rather than distinctiveness from, dominant culture, as a strategy for improving their social position',\n",
       "       \"TH supports the decline of the nations-state's power in an increasingly globalized world.\",\n",
       "       'THBT the USA should publicly apologise for the bombing of Hiroshima and Nagasaki',\n",
       "       'This house would end penalty enhancements for hate crimes.',\n",
       "       'THBT humanitarian organisations should, and should be allowed to, give funding, resources or services to illegal armed groups when this is made a condition for access to vulnerable civilians',\n",
       "       'THBT the state should reclaim a fixed proportion of all charitable giving and redistribute it to other charities on the basis of their effectiveness',\n",
       "       'THBT The USA should adopt a parliamentary democracy rather than a presidential one.',\n",
       "       'THBT criminal justice policy should be outsourced to technocrats instead of elected representatives.',\n",
       "       'This House believes that the European Union should lift its arms embargo on China.',\n",
       "       \"THBT the African-American community should actively oppose 'broken windows policies'\",\n",
       "       'This House believes that when multi-national corporations conduct any business in Western states, these nations should enforce their environmental standards at all stages of production.',\n",
       "       'TH regrets mainstream, commercial films that depict historical subjugation and/or crimes against humanity.',\n",
       "       \"Your 'one true soulmate' exists. There is a test that allows you to determine whether someone is your one true soulmate. You are in love with the person you have been dating for a while.\\nTHW take the test to determine whether the person you are in love with is your 'soulmate'\",\n",
       "       'THBT liberal democracies should cut all  economic and military ties with the Kingdom of Saudi Arabia. ',\n",
       "       'THW kill baby Hitler',\n",
       "       'THBT militaries should aggressively engage in the genetic and bionic enhancement of consenting soldiers.',\n",
       "       'This house believes that Israel should have continued the occupation of Gaza',\n",
       "       'THBT the US should withdraw from East Asia and cede regional hegemony to China.',\n",
       "       'THBT the government should only fund further education courses that have high graduate employment rates',\n",
       "       'TH Supports the proliferation of free schools',\n",
       "       'THS the July 2015 decision of the UK government to deny a visa to Tyler the Creator',\n",
       "       'THBT Donald Trump’s presidential campaign is good for America',\n",
       "       'TH Opposes the Sharing Economy',\n",
       "       'THW prefer a world in which there are no extreme emotions such as boiling rage, falling madly in love, extreme grief etc',\n",
       "       'TH believes that the West should stop all attempts to gather information or intelligence by deception and/or coercion of foreign citizens',\n",
       "       'This house would introduce blind voting.',\n",
       "       'TH believes that parents of a musical child genius have a moral obligation to push that child to maximise their musical potential.',\n",
       "       'This house believes that EU member states should nationalise all their oil and gas resources in order to surrender total ownership and control of them to an EU-run energy agency.',\n",
       "       'THBT environmental movements should support climate engineering that fundamentally alters the environment in an attempt to combat global warming',\n",
       "       'THR the Arab Spring',\n",
       "       'THW create and enforce filial responsibility laws (mandating that people take care of their parents)\" - or words to that effect',\n",
       "       'This House would pay all elected politicians the median wage in their country.',\n",
       "       'THBT campaigners for refugee protection should not use pictures displaying the graphic suffering of refugees as part of their advocacy.',\n",
       "       'THBT the West should abandon its foreign policy aim of removing Assad from power',\n",
       "       'THW require major polluters to open their borders to environmental refugees. ',\n",
       "       'THR the Rise of the Rom-Com Genre.',\n",
       "       'THS Chris Rock’s continued commitment to host the Oscars',\n",
       "       'This house would prefer a world without religious beliefs',\n",
       "       'THW prevent those who deny climate change from seeking political office. '], dtype=object)"
      ]
     },
     "execution_count": 42,
     "metadata": {},
     "output_type": "execute_result"
    }
   ],
   "source": [
    "X"
   ]
  },
  {
   "cell_type": "code",
   "execution_count": 43,
   "metadata": {
    "collapsed": false
   },
   "outputs": [],
   "source": [
    "# Test set\n",
    "\n",
    "X_test = labelled_data[train_size:total_labelled,motion_col]\n",
    "Y_test = Y_for_element[train_size:total_labelled]"
   ]
  },
  {
   "cell_type": "code",
   "execution_count": 44,
   "metadata": {
    "collapsed": false
   },
   "outputs": [
    {
     "data": {
      "text/plain": [
       "'THBT the government should only fund further education courses that have high graduate employment rates'"
      ]
     },
     "execution_count": 44,
     "metadata": {},
     "output_type": "execute_result"
    }
   ],
   "source": [
    "# Check that data is in form we expect\n",
    "X[99]"
   ]
  },
  {
   "cell_type": "code",
   "execution_count": 45,
   "metadata": {
    "collapsed": false
   },
   "outputs": [
    {
     "data": {
      "text/plain": [
       "array([ 0.,  0.,  0.,  1.,  0.,  0.,  0.,  0.,  0.,  1.,  0.,  1.,  1.,\n",
       "        0.,  0.,  0.,  1.,  0.,  0.,  0.,  0.,  0.,  1.,  0.,  0.,  1.,\n",
       "        0.,  0.,  0.,  1.,  1.,  0.,  0.,  0.,  0.,  1.,  1.,  0.,  0.,\n",
       "        0.,  1.,  0.,  0.,  1.,  1.,  0.,  0.,  0.,  0.,  1.,  1.,  0.,\n",
       "        1.,  0.,  0.,  1.,  0.,  0.,  0.,  0.,  0.,  0.,  0.,  1.,  0.,\n",
       "        0.,  0.,  0.,  0.,  1.,  0.,  1.,  0.,  0.,  0.,  0.,  0.,  0.,\n",
       "        0.,  0.,  1.,  0.,  1.,  1.,  0.,  1.,  0.,  0.,  0.,  1.,  0.,\n",
       "        0.,  0.,  0.,  1.,  0.,  0.,  1.,  1.,  0.,  0.,  0.,  1.,  0.,\n",
       "        0.,  1.,  0.,  0.,  1.,  0.,  1.,  0.,  0.,  0.,  1.,  1.,  0.,\n",
       "        0.,  0.,  0.])"
      ]
     },
     "execution_count": 45,
     "metadata": {},
     "output_type": "execute_result"
    }
   ],
   "source": [
    "Y"
   ]
  },
  {
   "cell_type": "markdown",
   "metadata": {},
   "source": [
    "## Extract Features "
   ]
  },
  {
   "cell_type": "code",
   "execution_count": 46,
   "metadata": {
    "collapsed": false
   },
   "outputs": [
    {
     "data": {
      "text/plain": [
       "(120, 803)"
      ]
     },
     "execution_count": 46,
     "metadata": {},
     "output_type": "execute_result"
    }
   ],
   "source": [
    "from sklearn.feature_extraction.text import CountVectorizer\n",
    "count_vect = CountVectorizer()\n",
    "X_train_counts = count_vect.fit_transform(X)\n",
    "X_train_counts.shape"
   ]
  },
  {
   "cell_type": "code",
   "execution_count": 47,
   "metadata": {
    "collapsed": false
   },
   "outputs": [
    {
     "data": {
      "text/plain": [
       "346"
      ]
     },
     "execution_count": 47,
     "metadata": {},
     "output_type": "execute_result"
    }
   ],
   "source": [
    "count_vect.vocabulary_.get(u'house')"
   ]
  },
  {
   "cell_type": "markdown",
   "metadata": {},
   "source": [
    "### Refinements to occurrence count\n",
    "1. **tf**: To avoid these potential discrepancies it suffices to divide the number of occurrences of each word in a document by the total number of words in the document: these new features are called tf for Term Frequencies.\n",
    "\n",
    "2. **tf-idf** (Term Frequency times Inverse Document Frequnecy) Another refinement on top of tf is to downscale weights for words that occur in many documents in the corpus and are therefore less informative than those that occur only in a smaller portion of the corpus.\n",
    "\n",
    "\n"
   ]
  },
  {
   "cell_type": "code",
   "execution_count": 48,
   "metadata": {
    "collapsed": false
   },
   "outputs": [
    {
     "data": {
      "text/plain": [
       "(120, 803)"
      ]
     },
     "execution_count": 48,
     "metadata": {},
     "output_type": "execute_result"
    }
   ],
   "source": [
    "from sklearn.feature_extraction.text import TfidfTransformer\n",
    "tf_transformer = TfidfTransformer(use_idf=False).fit(X_train_counts)\n",
    "X_train_tf = tf_transformer.transform(X_train_counts)\n",
    "X_train_tf.shape"
   ]
  },
  {
   "cell_type": "code",
   "execution_count": 49,
   "metadata": {
    "collapsed": false
   },
   "outputs": [
    {
     "data": {
      "text/plain": [
       "(120, 803)"
      ]
     },
     "execution_count": 49,
     "metadata": {},
     "output_type": "execute_result"
    }
   ],
   "source": [
    "tfidf_transformer = TfidfTransformer()\n",
    "X_train_tfidf = tfidf_transformer.fit_transform(X_train_counts)\n",
    "X_train_tfidf.shape"
   ]
  },
  {
   "cell_type": "markdown",
   "metadata": {},
   "source": [
    "## Training a classifier"
   ]
  },
  {
   "cell_type": "code",
   "execution_count": 50,
   "metadata": {
    "collapsed": false
   },
   "outputs": [],
   "source": [
    "from sklearn.naive_bayes import MultinomialNB\n",
    "clf = MultinomialNB().fit(X_train_tfidf, Y)"
   ]
  },
  {
   "cell_type": "code",
   "execution_count": 51,
   "metadata": {
    "collapsed": false
   },
   "outputs": [
    {
     "name": "stdout",
     "output_type": "stream",
     "text": [
      "'thw criminalise drugs' => 0.0\n",
      "'THW ban endangered animals' => 0.0\n",
      "'ban drug taking in sports' => 0.0\n",
      "'THBT Saudi Arabia should nationalise its oil industry' => 1.0\n"
     ]
    }
   ],
   "source": [
    "# Predict the outcome on a new document\n",
    "docs_new = ['thw criminalise drugs', 'THW ban endangered animals',\n",
    "           'ban drug taking in sports', 'THBT Saudi Arabia should nationalise its oil industry']\n",
    "X_new_counts = count_vect.transform(docs_new)\n",
    "X_new_tfidf = tfidf_transformer.transform(X_new_counts)\n",
    "\n",
    "predicted = clf.predict(X_new_tfidf)\n",
    "\n",
    "for doc, category in zip(docs_new, predicted):\n",
    "    print('%r => %s' % (doc, category))"
   ]
  },
  {
   "cell_type": "markdown",
   "metadata": {
    "collapsed": true
   },
   "source": [
    "## Building a Pipeline"
   ]
  },
  {
   "cell_type": "code",
   "execution_count": 52,
   "metadata": {
    "collapsed": true
   },
   "outputs": [],
   "source": [
    "from sklearn.pipeline import Pipeline\n",
    "text_clf = Pipeline([('vect', CountVectorizer()),\n",
    "                     ('tfidf', TfidfTransformer()),\n",
    "                     ('clf', MultinomialNB())\n",
    "                    ])"
   ]
  },
  {
   "cell_type": "code",
   "execution_count": 53,
   "metadata": {
    "collapsed": false
   },
   "outputs": [],
   "source": [
    "# Hard-coded array\n",
    "\n",
    "category_clfs = [text_clf, text_clf, text_clf, text_clf, \n",
    "                 text_clf, text_clf, text_clf, text_clf,\n",
    "                 text_clf, text_clf, text_clf, text_clf,\n",
    "                 text_clf, text_clf, text_clf, text_clf,\n",
    "                 text_clf, text_clf, text_clf, text_clf,\n",
    "                 text_clf, text_clf, text_clf, text_clf,\n",
    "                 text_clf, text_clf]            "
   ]
  },
  {
   "cell_type": "code",
   "execution_count": 54,
   "metadata": {
    "collapsed": false
   },
   "outputs": [],
   "source": [
    "for i in range(len_labels):\n",
    "    category_clfs[i] = text_clf.fit(X, Y_dict[labels[i]][:train_size])"
   ]
  },
  {
   "cell_type": "code",
   "execution_count": 55,
   "metadata": {
    "collapsed": true
   },
   "outputs": [],
   "source": [
    "# Create dictionary of category classifiers\n",
    "category_clfs_dict = dict.fromkeys(labels)\n",
    "for i in range(len_labels):\n",
    "    category_clfs_dict[labels[i]] = text_clf.fit(X, Y_dict[labels[i]][:train_size])"
   ]
  },
  {
   "cell_type": "code",
   "execution_count": 56,
   "metadata": {
    "collapsed": false,
    "scrolled": true
   },
   "outputs": [
    {
     "name": "stdout",
     "output_type": "stream",
     "text": [
      "Art and Culture 0.941176470588\n",
      "Business 0.941176470588\n",
      "Criminal Justice System 0.882352941176\n",
      "Development 0.941176470588\n",
      "Economics 0.779411764706\n",
      "Education 0.941176470588\n",
      "Environment 0.955882352941\n",
      "Family 0.985294117647\n",
      "Feminism 0.941176470588\n",
      "Freedoms 0.955882352941\n",
      "Funny 1.0\n",
      "International Relations 0.735294117647\n",
      "LGBT+ 0.941176470588\n",
      "Media 0.941176470588\n",
      "Medical Ethics 0.970588235294\n",
      "Minority Communities 0.955882352941\n",
      "Morality 0.926470588235\n",
      "Politics 0.823529411765\n",
      "Religion 0.941176470588\n",
      "Science and Technology 0.955882352941\n",
      "Security, War and Military 0.838235294118\n",
      "Social Policy 0.911764705882\n",
      "Social Movements 0.955882352941\n",
      "Sports 0.985294117647\n",
      "Terrorism 0.970588235294\n",
      "The Human Experience 0.970588235294\n"
     ]
    }
   ],
   "source": [
    "## Evaluation of the performance on the test set\n",
    "import numpy as np\n",
    "\n",
    "for category_to_test in labels:\n",
    "    predicted = category_clfs_dict[category_to_test].predict(X_test)\n",
    "    print(category_to_test, np.mean(predicted == Y_dict[category_to_test][train_size:total_labelled]))"
   ]
  },
  {
   "cell_type": "markdown",
   "metadata": {},
   "source": [
    "Note hard-coded train and test size in performance evaluation cell."
   ]
  },
  {
   "cell_type": "markdown",
   "metadata": {},
   "source": [
    "# Predict categories for unlabelled motions"
   ]
  },
  {
   "cell_type": "code",
   "execution_count": null,
   "metadata": {
    "collapsed": true
   },
   "outputs": [],
   "source": []
  }
 ],
 "metadata": {
  "kernelspec": {
   "display_name": "Python 3",
   "language": "python",
   "name": "python3"
  },
  "language_info": {
   "codemirror_mode": {
    "name": "ipython",
    "version": 3
   },
   "file_extension": ".py",
   "mimetype": "text/x-python",
   "name": "python",
   "nbconvert_exporter": "python",
   "pygments_lexer": "ipython3",
   "version": "3.5.1"
  }
 },
 "nbformat": 4,
 "nbformat_minor": 0
}
